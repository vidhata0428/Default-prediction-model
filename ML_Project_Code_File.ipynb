{
  "cells": [
    {
      "cell_type": "markdown",
      "metadata": {
        "id": "N7CRKWv2EfJD"
      },
      "source": [
        "#Data Importing"
      ]
    },
    {
      "cell_type": "code",
      "execution_count": null,
      "metadata": {
        "id": "Np-4pWEeAGpz"
      },
      "outputs": [],
      "source": [
        "#Import the dataset , Get the number of rows and columns"
      ]
    },
    {
      "cell_type": "code",
      "execution_count": null,
      "metadata": {
        "id": "03HLxfVXARdA"
      },
      "outputs": [],
      "source": [
        "\n",
        "import pandas as pd\n",
        "\n",
        "# Load the dataset from the URL\n",
        "loans = pd.read_csv('cs-training.csv')\n",
        "\n",
        "# Get the number of rows and columns\n",
        "num_rows = loans.shape[0]\n",
        "num_cols = loans.shape[1]\n",
        "\n",
        "print(f\"Number of rows: {num_rows}\")\n",
        "print(f\"Number of columns: {num_cols}\")\n"
      ]
    },
    {
      "cell_type": "code",
      "execution_count": null,
      "metadata": {
        "id": "QVNe_v2kAW_z"
      },
      "outputs": [],
      "source": [
        "# prompt: write code to print the column names and column types\n",
        "\n",
        "loans.dtypes\n"
      ]
    },
    {
      "cell_type": "code",
      "execution_count": null,
      "metadata": {
        "id": "9ZN3-RmDAXDb"
      },
      "outputs": [],
      "source": [
        "loans.info()"
      ]
    },
    {
      "cell_type": "code",
      "execution_count": null,
      "metadata": {
        "id": "5o11makFBuDy"
      },
      "outputs": [],
      "source": [
        "loans.columns.values"
      ]
    },
    {
      "cell_type": "markdown",
      "metadata": {
        "id": "tMhradvBEd7_"
      },
      "source": [
        "#Data Cleaning"
      ]
    },
    {
      "cell_type": "markdown",
      "metadata": {
        "id": "pQVNwOctFA24"
      },
      "source": [
        "## Categorical or Discrete Variables"
      ]
    },
    {
      "cell_type": "markdown",
      "metadata": {
        "id": "Kh4J9FQ5FR93"
      },
      "source": [
        "**Categorical Variables**\n",
        "\n",
        "Region - East, West, North, South\n",
        "\n",
        "Gender - M, F\n",
        "\n",
        "Job Type - A, B, C\n",
        "\n",
        "Card Status - Close, Active, Witheld\n",
        "\n",
        "**Discrete Variables**\n",
        "\n",
        "Number of Loans - 1,2,3,4,5\n",
        "Number of Dependents - 0,1,2,3,4,5\n",
        "Number of late payments - 0, 1,2,3,4,5,6"
      ]
    },
    {
      "cell_type": "code",
      "execution_count": null,
      "metadata": {
        "id": "X2BbiLUoGeyA"
      },
      "outputs": [],
      "source": [
        "#Frequency table for the variable SeriousDlqin2yrs\n",
        "loans[\"SeriousDlqin2yrs\"].value_counts()"
      ]
    },
    {
      "cell_type": "code",
      "execution_count": null,
      "metadata": {
        "id": "hUXmeD4qGe1c"
      },
      "outputs": [],
      "source": [
        "loans[\"NumberOfOpenCreditLinesAndLoans\"].value_counts()"
      ]
    },
    {
      "cell_type": "code",
      "execution_count": null,
      "metadata": {
        "id": "vCj2QV_mICOz"
      },
      "outputs": [],
      "source": [
        "loans[\"NumberOfTime30-59DaysPastDueNotWorse\"].value_counts()\n",
        "\n",
        "#Max Number - 24 Min Number -0\n",
        "\n",
        "#Total bills - 24 bills\n",
        "\n",
        "#A - paid ontime - 0\n",
        "#B - 23 bills ontime - 1 bill 45th day -1\n",
        "#C - 22 Bills ontimee - 1 bill 48th day , 70th day -1\n",
        "#D - 22 bills ontime - 1 bill 50th day, 1 bill 45th day - 2"
      ]
    },
    {
      "cell_type": "markdown",
      "metadata": {
        "id": "c12Bf5oGFKre"
      },
      "source": [
        "#Continuous Variables"
      ]
    },
    {
      "cell_type": "markdown",
      "metadata": {
        "id": "od3ZATubGHHb"
      },
      "source": [
        "Monthy income - 5000, 5000.4, 6000,100,000 6500.135\n",
        "Debt Ratio - 0%, 1%, 1.5% 9.62%"
      ]
    },
    {
      "cell_type": "markdown",
      "metadata": {
        "id": "boZNhdsYKnow"
      },
      "source": [
        "10p Value of Monthly Income - 4000$\n",
        "\n",
        "20p Value of Monthly Income - 6000$\n",
        "\n",
        "90p Value of Monthly Income - 75000$\n",
        "\n",
        "100p Value of monthly income - 90,000$"
      ]
    },
    {
      "cell_type": "code",
      "execution_count": null,
      "metadata": {
        "id": "tKsXdPEVEwP7"
      },
      "outputs": [],
      "source": [
        "#Debt Ratio - Debt/Income =  25000/100000 = 0.25\n",
        "#Minimum - 0\n",
        "#Maximum - 1\n",
        "#Outliers - Beyond 1  debt ratio\n",
        "\n",
        "loans[\"DebtRatio\"].quantile([0,0.1,0.2,0.3,0.4,0.5,0.6,0.7,0.8,0.9,1])\n",
        "\n"
      ]
    },
    {
      "cell_type": "code",
      "execution_count": null,
      "metadata": {
        "id": "QJvjSOmzM-hI"
      },
      "outputs": [],
      "source": [
        "loans[\"DebtRatio\"].quantile([0.7,0.71,0.72,0.73,0.74,0.75,0.76,0.77,0.78,0.79,0.8])\n"
      ]
    },
    {
      "cell_type": "code",
      "execution_count": null,
      "metadata": {
        "id": "LcGxChCYNkX-"
      },
      "outputs": [],
      "source": [
        "#age\n",
        "\n",
        "#Min - 18\n",
        "#Max - 75\n",
        "\n",
        "loans[\"age\"].quantile([0,0.1,0.2,0.3,0.4,0.5,0.6,0.7,0.8,0.9,1])"
      ]
    },
    {
      "cell_type": "code",
      "execution_count": null,
      "metadata": {
        "id": "hYj7q1eCOzgu"
      },
      "outputs": [],
      "source": [
        "loans['age'].quantile([0.8, 0.91, 0.92, 0.93, 0.94, 0.95,0.96,0.97,0.98, 0.99, 0.1])"
      ]
    },
    {
      "cell_type": "markdown",
      "metadata": {
        "id": "eHVcNSJGQJpd"
      },
      "source": [
        "# Data Cleaning"
      ]
    },
    {
      "cell_type": "code",
      "execution_count": null,
      "metadata": {
        "id": "GQoIexksPqNF"
      },
      "outputs": [],
      "source": [
        "# Age variable\n",
        "\n",
        "# Clean ==> 93%\n",
        "# Issues ==> 7%\n",
        "\n",
        "#Imputation\n",
        "\n",
        "median_age=loans[\"age\"].median()\n",
        "print(median_age)"
      ]
    },
    {
      "cell_type": "code",
      "execution_count": null,
      "metadata": {
        "id": "H7VaDrQARJct"
      },
      "outputs": [],
      "source": [
        "#Creating a new variabel age_cleaned\n",
        "\n",
        "loans[\"age_cleaned\"]=loans[\"age\"]\n",
        "loans[\"age_cleaned\"][loans[\"age\"]>75]=median_age"
      ]
    },
    {
      "cell_type": "code",
      "execution_count": null,
      "metadata": {
        "id": "FrHJbVAlRac1"
      },
      "outputs": [],
      "source": [
        "loans[\"age_cleaned\"].describe()"
      ]
    },
    {
      "cell_type": "code",
      "execution_count": null,
      "metadata": {
        "id": "s0ULid4TRsM3"
      },
      "outputs": [],
      "source": [
        "#70% issues -0\n",
        "#30% Clean -1\n",
        "\n",
        "#Drop this variable\n",
        "#Flag variabble"
      ]
    },
    {
      "cell_type": "code",
      "execution_count": null,
      "metadata": {
        "id": "bDJrfQZCToV1"
      },
      "outputs": [],
      "source": [
        "# 25% issues\n",
        "# 75% Clean\n",
        "\n",
        "#Step-1 : Imputation\n",
        "#Step-2 : Flag Variable creation\n",
        "\n",
        "#Debt Ratio\n",
        "#Clean - 76%\n",
        "#Issues - 24%\n",
        "\n",
        "#Step-1: Imputation\n",
        "loans[\"DebtRatio_clean\"]=loans[\"DebtRatio\"]\n",
        "loans[\"DebtRatio_clean\"][loans[\"DebtRatio\"]>1]=loans[\"DebtRatio\"].median()\n",
        "\n",
        "#Step-2: Flag Variable\n",
        "loans[\"Debt_ratio_flag\"]=0\n",
        "loans[\"Debt_ratio_flag\"][loans[\"DebtRatio\"]>1]=1"
      ]
    },
    {
      "cell_type": "code",
      "execution_count": null,
      "metadata": {
        "id": "s5t0ANLFVtA6"
      },
      "outputs": [],
      "source": [
        "loans[\"Debt_ratio_flag\"].value_counts()/len(loans)"
      ]
    },
    {
      "cell_type": "markdown",
      "metadata": {
        "id": "_VNm-z4W2cxp"
      },
      "source": [
        "# Final Cleaned Data"
      ]
    },
    {
      "cell_type": "code",
      "execution_count": null,
      "metadata": {
        "id": "J2K9WhDkVvvU"
      },
      "outputs": [],
      "source": [
        "import pandas as pd\n",
        "loans_cleaned=pd.read_csv(\"Cleaned_cs_training.csv\")"
      ]
    },
    {
      "cell_type": "code",
      "execution_count": null,
      "metadata": {
        "id": "307ktgi-2iul"
      },
      "outputs": [],
      "source": [
        "loans_cleaned.head()"
      ]
    },
    {
      "cell_type": "markdown",
      "metadata": {
        "id": "9ellt4783uqd"
      },
      "source": [
        "#Model Building"
      ]
    },
    {
      "cell_type": "markdown",
      "metadata": {
        "id": "pz9VbtC73w8c"
      },
      "source": [
        "**Target Variable** - SeriousDlqin2yrs\n",
        "\n",
        "**Features** - Rest all variables"
      ]
    },
    {
      "cell_type": "code",
      "execution_count": null,
      "metadata": {
        "id": "FgxAxTFq2vUZ"
      },
      "outputs": [],
      "source": [
        "import pandas as pd\n",
        "from sklearn.model_selection import train_test_split\n",
        "from sklearn.linear_model import LogisticRegression\n",
        "from sklearn.metrics import classification_report, confusion_matrix, accuracy_score\n"
      ]
    },
    {
      "cell_type": "code",
      "execution_count": null,
      "metadata": {
        "id": "juORuVi44uxn"
      },
      "outputs": [],
      "source": [
        "#Create X and y data\n",
        "X=loans_cleaned.drop([\"SeriousDlqin2yrs\",\"Sr_No\"],axis=1)\n",
        "y=loans_cleaned[\"SeriousDlqin2yrs\"]"
      ]
    },
    {
      "cell_type": "code",
      "execution_count": null,
      "metadata": {
        "id": "CyDhFiNU4_GL"
      },
      "outputs": [],
      "source": [
        "#Create X_train, X_test, y_train, y_test\n",
        "X_train, X_test, y_train, y_test = train_test_split(X, y, test_size=0.2, random_state=42)"
      ]
    },
    {
      "cell_type": "code",
      "execution_count": null,
      "metadata": {
        "id": "-GoPCy5K5aBO"
      },
      "outputs": [],
      "source": [
        "#Print the shape\n",
        "print(X_train.shape)\n",
        "print(X_test.shape)\n",
        "print(y_train.shape)\n",
        "print(y_test.shape)"
      ]
    },
    {
      "cell_type": "code",
      "execution_count": 2,
      "metadata": {
        "id": "Tm9SCjjh5cbl"
      },
      "outputs": [
        {
          "ename": "NameError",
          "evalue": "name 'LogisticRegression' is not defined",
          "output_type": "error",
          "traceback": [
            "\u001b[31m---------------------------------------------------------------------------\u001b[39m",
            "\u001b[31mNameError\u001b[39m                                 Traceback (most recent call last)",
            "\u001b[36mCell\u001b[39m\u001b[36m \u001b[39m\u001b[32mIn[2]\u001b[39m\u001b[32m, line 2\u001b[39m\n\u001b[32m      1\u001b[39m \u001b[38;5;66;03m#Building the logistic regression model\u001b[39;00m\n\u001b[32m----> \u001b[39m\u001b[32m2\u001b[39m logreg=\u001b[43mLogisticRegression\u001b[49m()\n\u001b[32m      3\u001b[39m logreg.fit(X_train,y_train)\n",
            "\u001b[31mNameError\u001b[39m: name 'LogisticRegression' is not defined"
          ]
        }
      ],
      "source": [
        "#Building the logistic regression model\n",
        "logreg=LogisticRegression()\n",
        "logreg.fit(X_train,y_train)"
      ]
    },
    {
      "cell_type": "code",
      "execution_count": null,
      "metadata": {
        "id": "6EnzQVfF9iaa"
      },
      "outputs": [],
      "source": [
        "logreg.coef_"
      ]
    },
    {
      "cell_type": "markdown",
      "metadata": {
        "id": "IVeNj2td6yiX"
      },
      "source": [
        "#Model Validation"
      ]
    },
    {
      "cell_type": "code",
      "execution_count": null,
      "metadata": {
        "id": "0vtt0Gs56vdp"
      },
      "outputs": [],
      "source": [
        "#Confusion matrix and accuracy on train data and test data\n",
        "y_train_pred=logreg.predict(X_train)\n",
        "y_test_pred=logreg.predict(X_test)\n",
        "\n",
        "#Confusion matrix on train data\n",
        "cm_train=confusion_matrix(y_train,y_train_pred)\n",
        "print(cm_train)\n",
        "\n",
        "#Confusion matrix on test data\n",
        "cm_test=confusion_matrix(y_test,y_test_pred)\n",
        "print(cm_test)\n",
        "\n",
        "#Accuracy on Train and test\n",
        "print(accuracy_score(y_train,y_train_pred))\n",
        "print(accuracy_score(y_test,y_test_pred))"
      ]
    },
    {
      "cell_type": "markdown",
      "metadata": {
        "id": "Rpfu3KKt-SB2"
      },
      "source": [
        "#Multicollinearity"
      ]
    },
    {
      "cell_type": "code",
      "execution_count": null,
      "metadata": {
        "id": "xwhaSlY-61i_"
      },
      "outputs": [],
      "source": [
        "#Vif Function\n",
        "import statsmodels.formula.api as sm\n",
        "\n",
        "def vif_cal(input_data, dependent_col):\n",
        "    x_vars=input_data.drop([dependent_col], axis=1)\n",
        "    xvar_names=x_vars.columns\n",
        "    for i in range(0,xvar_names.shape[0]):\n",
        "        y=x_vars[xvar_names[i]]\n",
        "        x=x_vars[xvar_names.drop(xvar_names[i])]\n",
        "        rsq=sm.ols(formula=\"y~x\", data=x_vars).fit().rsquared\n",
        "        vif=round(1/(1-rsq),2)\n",
        "        print (xvar_names[i], \" VIF = \" , vif)"
      ]
    },
    {
      "cell_type": "code",
      "execution_count": null,
      "metadata": {
        "id": "3V2qfuDr61m4"
      },
      "outputs": [],
      "source": [
        "vif_cal(loans_cleaned,\"SeriousDlqin2yrs\")"
      ]
    },
    {
      "cell_type": "code",
      "execution_count": null,
      "metadata": {
        "id": "-lJBIP2061s4"
      },
      "outputs": [],
      "source": [
        "#P_value of all the features\n",
        "import statsmodels.api as sm\n",
        "X_train_lm=sm.add_constant(X_train)\n",
        "logistic_reg=sm.OLS(y_train,X_train_lm).fit()\n",
        "print(logistic_reg.summary())"
      ]
    },
    {
      "cell_type": "markdown",
      "metadata": {
        "id": "Gn3Qmy92Fzhp"
      },
      "source": [
        "# IV Calculation"
      ]
    },
    {
      "cell_type": "code",
      "execution_count": null,
      "metadata": {
        "id": "M1FeNuDVBGSs"
      },
      "outputs": [],
      "source": [
        "import pandas as pd\n",
        "import numpy as np\n",
        "\n",
        "def calculate_iv(df, target, bins=10, show_woe=False):\n",
        "    \"\"\"\n",
        "    Calculates Information Value (IV) for each independent variable.\n",
        "\n",
        "    Parameters:\n",
        "    df (pd.DataFrame): The input DataFrame.\n",
        "    target (str): The name of the binary target column.\n",
        "    bins (int): Number of bins to use for numeric variables.\n",
        "    show_woe (bool): Whether to print WOE table for each variable.\n",
        "\n",
        "    Returns:\n",
        "    pd.DataFrame: IV values for each variable.\n",
        "    \"\"\"\n",
        "    iv_list = []\n",
        "\n",
        "    for col in df.columns:\n",
        "        if col == target:\n",
        "            continue\n",
        "\n",
        "        # Create binned variable if numeric\n",
        "        if pd.api.types.is_numeric_dtype(df[col]):\n",
        "            df[col + '_bin'] = pd.qcut(df[col].rank(method='first'), bins, duplicates='drop')\n",
        "            var = col + '_bin'\n",
        "        else:\n",
        "            var = col\n",
        "\n",
        "        # WOE Table\n",
        "        woe_df = df.groupby(var).agg(\n",
        "            good = (target, lambda x: (x == 0).sum()),\n",
        "            bad = (target, lambda x: (x == 1).sum())\n",
        "        )\n",
        "        woe_df['Distr_Good'] = woe_df['good'] / woe_df['good'].sum()\n",
        "        woe_df['Distr_Bad'] = woe_df['bad'] / woe_df['bad'].sum()\n",
        "        woe_df['WOE'] = np.log((woe_df['Distr_Good'] + 0.0001) / (woe_df['Distr_Bad'] + 0.0001))\n",
        "        woe_df['IV'] = (woe_df['Distr_Good'] - woe_df['Distr_Bad']) * woe_df['WOE']\n",
        "\n",
        "        iv = woe_df['IV'].sum()\n",
        "        iv_list.append((col, iv))\n",
        "\n",
        "        if show_woe:\n",
        "            print(f\"\\nWOE Table for {col}\")\n",
        "            print(woe_df)\n",
        "\n",
        "        # Drop temp bin column\n",
        "        if col + '_bin' in df.columns:\n",
        "            df.drop(columns=[col + '_bin'], inplace=True)\n",
        "\n",
        "    # Return IV table\n",
        "    iv_df = pd.DataFrame(iv_list, columns=['Variable', 'InformationValue'])\n",
        "    iv_df = iv_df.sort_values(by='InformationValue', ascending=False).reset_index(drop=True)\n",
        "    return iv_df\n"
      ]
    },
    {
      "cell_type": "code",
      "execution_count": null,
      "metadata": {
        "id": "NavzgOVxF129"
      },
      "outputs": [],
      "source": [
        "iv_result = calculate_iv(loans_cleaned, target='SeriousDlqin2yrs')\n",
        "print(iv_result)\n"
      ]
    },
    {
      "cell_type": "markdown",
      "metadata": {
        "id": "S6R6DddnE0Xs"
      },
      "source": [
        "#Model Validation - Deep Dive"
      ]
    },
    {
      "cell_type": "code",
      "execution_count": null,
      "metadata": {
        "id": "f0N47K1jE27x"
      },
      "outputs": [],
      "source": [
        "#Confusion matrix and accuracy on train data and test data\n",
        "y_train_pred=logreg.predict(X_train)\n",
        "y_test_pred=logreg.predict(X_test)\n",
        "\n",
        "#Confusion matrix on train data\n",
        "cm_train=confusion_matrix(y_train,y_train_pred)\n",
        "print(cm_train)\n",
        "\n",
        "#Confusion matrix on test data\n",
        "cm_test=confusion_matrix(y_test,y_test_pred)\n",
        "print(cm_test)\n",
        "\n",
        "#Accuracy on Train and test\n",
        "print(accuracy_score(y_train,y_train_pred))\n",
        "print(accuracy_score(y_test,y_test_pred))"
      ]
    },
    {
      "cell_type": "markdown",
      "metadata": {
        "id": "-_s6BdIdE5kD"
      },
      "source": [
        "The model is not overfitted. Train Accuracy is almost same as test accuracy"
      ]
    },
    {
      "cell_type": "code",
      "execution_count": null,
      "metadata": {
        "id": "herjnn4pE3b4"
      },
      "outputs": [],
      "source": [
        "#Target Variable\n",
        "loans_cleaned[\"SeriousDlqin2yrs\"].value_counts()"
      ]
    },
    {
      "cell_type": "code",
      "execution_count": null,
      "metadata": {
        "id": "pW2SG_oYFleP"
      },
      "outputs": [],
      "source": [
        "loans_cleaned[\"SeriousDlqin2yrs\"].value_counts()/len(loans_cleaned)"
      ]
    },
    {
      "cell_type": "markdown",
      "metadata": {
        "id": "kuFQLUf9GRN6"
      },
      "source": [
        "#Classwise Accuracy"
      ]
    },
    {
      "cell_type": "code",
      "execution_count": null,
      "metadata": {
        "id": "X-ME9elNGEAo"
      },
      "outputs": [],
      "source": [
        "#Clss-0 : Good Customers - Accuracy\n",
        "class_0_accuracy=cm_train[0,0]/(cm_train[0,0]+cm_train[0,1])\n",
        "print(class_0_accuracy)\n",
        "#Sensitivity"
      ]
    },
    {
      "cell_type": "code",
      "execution_count": null,
      "metadata": {
        "id": "fbuh26mYGkR5"
      },
      "outputs": [],
      "source": [
        "#Clss-1 : Bad Customers - Accuracy\n",
        "class_1_accuracy=cm_train[1,1]/(cm_train[1,0]+cm_train[1,1])\n",
        "print(class_1_accuracy)\n",
        "#Specificity"
      ]
    },
    {
      "cell_type": "markdown",
      "metadata": {
        "id": "GUImDgzSMuP-"
      },
      "source": [
        "The class-1(Bad) has very less accuracy - Incrased"
      ]
    },
    {
      "cell_type": "code",
      "execution_count": null,
      "metadata": {
        "id": "2N37dY2SG9Nz"
      },
      "outputs": [],
      "source": [
        "'''\n",
        "- Buy / Not Buying\n",
        "- 100,000\n",
        "\n",
        "-0 : 90,000 [Not Buy]\n",
        "-1 : 10,000 [Buy]\n",
        "\n",
        "- 100,000\n",
        "-Fraud / Not Fraud\n",
        "\n",
        "-0 : 99,000 [non Fraud]\n",
        "-1 : 1,000 [Fraud]\n",
        "'''"
      ]
    },
    {
      "cell_type": "markdown",
      "metadata": {
        "id": "uZpXG5OGKl4B"
      },
      "source": [
        "#AUC for the model -Logreg"
      ]
    },
    {
      "cell_type": "code",
      "execution_count": null,
      "metadata": {
        "id": "1r3JIWCJJyTX"
      },
      "outputs": [],
      "source": [
        "#AUC on the train data - 80%\n",
        "import matplotlib.pyplot as plt\n",
        "from sklearn.metrics import roc_curve, auc, roc_auc_score\n",
        "\n",
        "#Pred_prob\n",
        "y_train_prob=logreg.predict_proba(X_train)[:,1]\n",
        "y_test_prob=logreg.predict_proba(X_test)[:,1]\n",
        "\n",
        "auc=roc_auc_score(y_train,y_train_prob)\n",
        "print(auc)\n",
        "\n",
        "#AUC on the test data - 80%\n",
        "auc=roc_auc_score(y_test,y_test_prob)\n",
        "print(auc)\n"
      ]
    },
    {
      "cell_type": "markdown",
      "metadata": {
        "id": "SqP6mOBeM0E2"
      },
      "source": [
        "#Handling Class Imbalance"
      ]
    },
    {
      "cell_type": "markdown",
      "metadata": {
        "id": "d-x5FIi0M3PQ"
      },
      "source": [
        "#Over Sampling and Under Sampling\n",
        "# SMOTE - Sythetic Minorty Oversampling TEchnique"
      ]
    },
    {
      "cell_type": "code",
      "execution_count": null,
      "metadata": {
        "id": "FrGTzLheLqq4"
      },
      "outputs": [],
      "source": [
        "''''\n",
        "#0-Good\n",
        "#1-Bad\n",
        "Cust id , Imcome, Loans, Late payemts , Good/Bad\n",
        "Cust-1: 5000, 6, 7  --->1\n",
        "Cust-2, 4000, 6, 6  --->1\n",
        "---------------------\n",
        "Cust-3, 4500, 6, 7 ---->1\n",
        "'''"
      ]
    },
    {
      "cell_type": "code",
      "execution_count": null,
      "metadata": {
        "id": "5AokargzOUb6"
      },
      "outputs": [],
      "source": [
        "from imblearn.over_sampling import SMOTE\n",
        "smote=SMOTE(sampling_strategy=0.5, random_state=44)\n",
        "X_train_smote, y_train_smote=smote.fit_resample(X_train,y_train)"
      ]
    },
    {
      "cell_type": "code",
      "execution_count": null,
      "metadata": {
        "colab": {
          "base_uri": "https://localhost:8080/",
          "height": 243
        },
        "id": "-Kj2x0cHOaFr",
        "outputId": "3c7eaa5d-6914-4dec-fc82-aa3207cb9d2b"
      },
      "outputs": [
        {
          "name": "stderr",
          "output_type": "stream",
          "text": [
            "/usr/local/lib/python3.11/dist-packages/sklearn/linear_model/_logistic.py:465: ConvergenceWarning: lbfgs failed to converge (status=1):\n",
            "STOP: TOTAL NO. OF ITERATIONS REACHED LIMIT.\n",
            "\n",
            "Increase the number of iterations (max_iter) or scale the data as shown in:\n",
            "    https://scikit-learn.org/stable/modules/preprocessing.html\n",
            "Please also refer to the documentation for alternative solver options:\n",
            "    https://scikit-learn.org/stable/modules/linear_model.html#logistic-regression\n",
            "  n_iter_i = _check_optimize_result(\n"
          ]
        },
        {
          "data": {
            "text/html": [
              "<style>#sk-container-id-3 {\n",
              "  /* Definition of color scheme common for light and dark mode */\n",
              "  --sklearn-color-text: #000;\n",
              "  --sklearn-color-text-muted: #666;\n",
              "  --sklearn-color-line: gray;\n",
              "  /* Definition of color scheme for unfitted estimators */\n",
              "  --sklearn-color-unfitted-level-0: #fff5e6;\n",
              "  --sklearn-color-unfitted-level-1: #f6e4d2;\n",
              "  --sklearn-color-unfitted-level-2: #ffe0b3;\n",
              "  --sklearn-color-unfitted-level-3: chocolate;\n",
              "  /* Definition of color scheme for fitted estimators */\n",
              "  --sklearn-color-fitted-level-0: #f0f8ff;\n",
              "  --sklearn-color-fitted-level-1: #d4ebff;\n",
              "  --sklearn-color-fitted-level-2: #b3dbfd;\n",
              "  --sklearn-color-fitted-level-3: cornflowerblue;\n",
              "\n",
              "  /* Specific color for light theme */\n",
              "  --sklearn-color-text-on-default-background: var(--sg-text-color, var(--theme-code-foreground, var(--jp-content-font-color1, black)));\n",
              "  --sklearn-color-background: var(--sg-background-color, var(--theme-background, var(--jp-layout-color0, white)));\n",
              "  --sklearn-color-border-box: var(--sg-text-color, var(--theme-code-foreground, var(--jp-content-font-color1, black)));\n",
              "  --sklearn-color-icon: #696969;\n",
              "\n",
              "  @media (prefers-color-scheme: dark) {\n",
              "    /* Redefinition of color scheme for dark theme */\n",
              "    --sklearn-color-text-on-default-background: var(--sg-text-color, var(--theme-code-foreground, var(--jp-content-font-color1, white)));\n",
              "    --sklearn-color-background: var(--sg-background-color, var(--theme-background, var(--jp-layout-color0, #111)));\n",
              "    --sklearn-color-border-box: var(--sg-text-color, var(--theme-code-foreground, var(--jp-content-font-color1, white)));\n",
              "    --sklearn-color-icon: #878787;\n",
              "  }\n",
              "}\n",
              "\n",
              "#sk-container-id-3 {\n",
              "  color: var(--sklearn-color-text);\n",
              "}\n",
              "\n",
              "#sk-container-id-3 pre {\n",
              "  padding: 0;\n",
              "}\n",
              "\n",
              "#sk-container-id-3 input.sk-hidden--visually {\n",
              "  border: 0;\n",
              "  clip: rect(1px 1px 1px 1px);\n",
              "  clip: rect(1px, 1px, 1px, 1px);\n",
              "  height: 1px;\n",
              "  margin: -1px;\n",
              "  overflow: hidden;\n",
              "  padding: 0;\n",
              "  position: absolute;\n",
              "  width: 1px;\n",
              "}\n",
              "\n",
              "#sk-container-id-3 div.sk-dashed-wrapped {\n",
              "  border: 1px dashed var(--sklearn-color-line);\n",
              "  margin: 0 0.4em 0.5em 0.4em;\n",
              "  box-sizing: border-box;\n",
              "  padding-bottom: 0.4em;\n",
              "  background-color: var(--sklearn-color-background);\n",
              "}\n",
              "\n",
              "#sk-container-id-3 div.sk-container {\n",
              "  /* jupyter's `normalize.less` sets `[hidden] { display: none; }`\n",
              "     but bootstrap.min.css set `[hidden] { display: none !important; }`\n",
              "     so we also need the `!important` here to be able to override the\n",
              "     default hidden behavior on the sphinx rendered scikit-learn.org.\n",
              "     See: https://github.com/scikit-learn/scikit-learn/issues/21755 */\n",
              "  display: inline-block !important;\n",
              "  position: relative;\n",
              "}\n",
              "\n",
              "#sk-container-id-3 div.sk-text-repr-fallback {\n",
              "  display: none;\n",
              "}\n",
              "\n",
              "div.sk-parallel-item,\n",
              "div.sk-serial,\n",
              "div.sk-item {\n",
              "  /* draw centered vertical line to link estimators */\n",
              "  background-image: linear-gradient(var(--sklearn-color-text-on-default-background), var(--sklearn-color-text-on-default-background));\n",
              "  background-size: 2px 100%;\n",
              "  background-repeat: no-repeat;\n",
              "  background-position: center center;\n",
              "}\n",
              "\n",
              "/* Parallel-specific style estimator block */\n",
              "\n",
              "#sk-container-id-3 div.sk-parallel-item::after {\n",
              "  content: \"\";\n",
              "  width: 100%;\n",
              "  border-bottom: 2px solid var(--sklearn-color-text-on-default-background);\n",
              "  flex-grow: 1;\n",
              "}\n",
              "\n",
              "#sk-container-id-3 div.sk-parallel {\n",
              "  display: flex;\n",
              "  align-items: stretch;\n",
              "  justify-content: center;\n",
              "  background-color: var(--sklearn-color-background);\n",
              "  position: relative;\n",
              "}\n",
              "\n",
              "#sk-container-id-3 div.sk-parallel-item {\n",
              "  display: flex;\n",
              "  flex-direction: column;\n",
              "}\n",
              "\n",
              "#sk-container-id-3 div.sk-parallel-item:first-child::after {\n",
              "  align-self: flex-end;\n",
              "  width: 50%;\n",
              "}\n",
              "\n",
              "#sk-container-id-3 div.sk-parallel-item:last-child::after {\n",
              "  align-self: flex-start;\n",
              "  width: 50%;\n",
              "}\n",
              "\n",
              "#sk-container-id-3 div.sk-parallel-item:only-child::after {\n",
              "  width: 0;\n",
              "}\n",
              "\n",
              "/* Serial-specific style estimator block */\n",
              "\n",
              "#sk-container-id-3 div.sk-serial {\n",
              "  display: flex;\n",
              "  flex-direction: column;\n",
              "  align-items: center;\n",
              "  background-color: var(--sklearn-color-background);\n",
              "  padding-right: 1em;\n",
              "  padding-left: 1em;\n",
              "}\n",
              "\n",
              "\n",
              "/* Toggleable style: style used for estimator/Pipeline/ColumnTransformer box that is\n",
              "clickable and can be expanded/collapsed.\n",
              "- Pipeline and ColumnTransformer use this feature and define the default style\n",
              "- Estimators will overwrite some part of the style using the `sk-estimator` class\n",
              "*/\n",
              "\n",
              "/* Pipeline and ColumnTransformer style (default) */\n",
              "\n",
              "#sk-container-id-3 div.sk-toggleable {\n",
              "  /* Default theme specific background. It is overwritten whether we have a\n",
              "  specific estimator or a Pipeline/ColumnTransformer */\n",
              "  background-color: var(--sklearn-color-background);\n",
              "}\n",
              "\n",
              "/* Toggleable label */\n",
              "#sk-container-id-3 label.sk-toggleable__label {\n",
              "  cursor: pointer;\n",
              "  display: flex;\n",
              "  width: 100%;\n",
              "  margin-bottom: 0;\n",
              "  padding: 0.5em;\n",
              "  box-sizing: border-box;\n",
              "  text-align: center;\n",
              "  align-items: start;\n",
              "  justify-content: space-between;\n",
              "  gap: 0.5em;\n",
              "}\n",
              "\n",
              "#sk-container-id-3 label.sk-toggleable__label .caption {\n",
              "  font-size: 0.6rem;\n",
              "  font-weight: lighter;\n",
              "  color: var(--sklearn-color-text-muted);\n",
              "}\n",
              "\n",
              "#sk-container-id-3 label.sk-toggleable__label-arrow:before {\n",
              "  /* Arrow on the left of the label */\n",
              "  content: \"▸\";\n",
              "  float: left;\n",
              "  margin-right: 0.25em;\n",
              "  color: var(--sklearn-color-icon);\n",
              "}\n",
              "\n",
              "#sk-container-id-3 label.sk-toggleable__label-arrow:hover:before {\n",
              "  color: var(--sklearn-color-text);\n",
              "}\n",
              "\n",
              "/* Toggleable content - dropdown */\n",
              "\n",
              "#sk-container-id-3 div.sk-toggleable__content {\n",
              "  max-height: 0;\n",
              "  max-width: 0;\n",
              "  overflow: hidden;\n",
              "  text-align: left;\n",
              "  /* unfitted */\n",
              "  background-color: var(--sklearn-color-unfitted-level-0);\n",
              "}\n",
              "\n",
              "#sk-container-id-3 div.sk-toggleable__content.fitted {\n",
              "  /* fitted */\n",
              "  background-color: var(--sklearn-color-fitted-level-0);\n",
              "}\n",
              "\n",
              "#sk-container-id-3 div.sk-toggleable__content pre {\n",
              "  margin: 0.2em;\n",
              "  border-radius: 0.25em;\n",
              "  color: var(--sklearn-color-text);\n",
              "  /* unfitted */\n",
              "  background-color: var(--sklearn-color-unfitted-level-0);\n",
              "}\n",
              "\n",
              "#sk-container-id-3 div.sk-toggleable__content.fitted pre {\n",
              "  /* unfitted */\n",
              "  background-color: var(--sklearn-color-fitted-level-0);\n",
              "}\n",
              "\n",
              "#sk-container-id-3 input.sk-toggleable__control:checked~div.sk-toggleable__content {\n",
              "  /* Expand drop-down */\n",
              "  max-height: 200px;\n",
              "  max-width: 100%;\n",
              "  overflow: auto;\n",
              "}\n",
              "\n",
              "#sk-container-id-3 input.sk-toggleable__control:checked~label.sk-toggleable__label-arrow:before {\n",
              "  content: \"▾\";\n",
              "}\n",
              "\n",
              "/* Pipeline/ColumnTransformer-specific style */\n",
              "\n",
              "#sk-container-id-3 div.sk-label input.sk-toggleable__control:checked~label.sk-toggleable__label {\n",
              "  color: var(--sklearn-color-text);\n",
              "  background-color: var(--sklearn-color-unfitted-level-2);\n",
              "}\n",
              "\n",
              "#sk-container-id-3 div.sk-label.fitted input.sk-toggleable__control:checked~label.sk-toggleable__label {\n",
              "  background-color: var(--sklearn-color-fitted-level-2);\n",
              "}\n",
              "\n",
              "/* Estimator-specific style */\n",
              "\n",
              "/* Colorize estimator box */\n",
              "#sk-container-id-3 div.sk-estimator input.sk-toggleable__control:checked~label.sk-toggleable__label {\n",
              "  /* unfitted */\n",
              "  background-color: var(--sklearn-color-unfitted-level-2);\n",
              "}\n",
              "\n",
              "#sk-container-id-3 div.sk-estimator.fitted input.sk-toggleable__control:checked~label.sk-toggleable__label {\n",
              "  /* fitted */\n",
              "  background-color: var(--sklearn-color-fitted-level-2);\n",
              "}\n",
              "\n",
              "#sk-container-id-3 div.sk-label label.sk-toggleable__label,\n",
              "#sk-container-id-3 div.sk-label label {\n",
              "  /* The background is the default theme color */\n",
              "  color: var(--sklearn-color-text-on-default-background);\n",
              "}\n",
              "\n",
              "/* On hover, darken the color of the background */\n",
              "#sk-container-id-3 div.sk-label:hover label.sk-toggleable__label {\n",
              "  color: var(--sklearn-color-text);\n",
              "  background-color: var(--sklearn-color-unfitted-level-2);\n",
              "}\n",
              "\n",
              "/* Label box, darken color on hover, fitted */\n",
              "#sk-container-id-3 div.sk-label.fitted:hover label.sk-toggleable__label.fitted {\n",
              "  color: var(--sklearn-color-text);\n",
              "  background-color: var(--sklearn-color-fitted-level-2);\n",
              "}\n",
              "\n",
              "/* Estimator label */\n",
              "\n",
              "#sk-container-id-3 div.sk-label label {\n",
              "  font-family: monospace;\n",
              "  font-weight: bold;\n",
              "  display: inline-block;\n",
              "  line-height: 1.2em;\n",
              "}\n",
              "\n",
              "#sk-container-id-3 div.sk-label-container {\n",
              "  text-align: center;\n",
              "}\n",
              "\n",
              "/* Estimator-specific */\n",
              "#sk-container-id-3 div.sk-estimator {\n",
              "  font-family: monospace;\n",
              "  border: 1px dotted var(--sklearn-color-border-box);\n",
              "  border-radius: 0.25em;\n",
              "  box-sizing: border-box;\n",
              "  margin-bottom: 0.5em;\n",
              "  /* unfitted */\n",
              "  background-color: var(--sklearn-color-unfitted-level-0);\n",
              "}\n",
              "\n",
              "#sk-container-id-3 div.sk-estimator.fitted {\n",
              "  /* fitted */\n",
              "  background-color: var(--sklearn-color-fitted-level-0);\n",
              "}\n",
              "\n",
              "/* on hover */\n",
              "#sk-container-id-3 div.sk-estimator:hover {\n",
              "  /* unfitted */\n",
              "  background-color: var(--sklearn-color-unfitted-level-2);\n",
              "}\n",
              "\n",
              "#sk-container-id-3 div.sk-estimator.fitted:hover {\n",
              "  /* fitted */\n",
              "  background-color: var(--sklearn-color-fitted-level-2);\n",
              "}\n",
              "\n",
              "/* Specification for estimator info (e.g. \"i\" and \"?\") */\n",
              "\n",
              "/* Common style for \"i\" and \"?\" */\n",
              "\n",
              ".sk-estimator-doc-link,\n",
              "a:link.sk-estimator-doc-link,\n",
              "a:visited.sk-estimator-doc-link {\n",
              "  float: right;\n",
              "  font-size: smaller;\n",
              "  line-height: 1em;\n",
              "  font-family: monospace;\n",
              "  background-color: var(--sklearn-color-background);\n",
              "  border-radius: 1em;\n",
              "  height: 1em;\n",
              "  width: 1em;\n",
              "  text-decoration: none !important;\n",
              "  margin-left: 0.5em;\n",
              "  text-align: center;\n",
              "  /* unfitted */\n",
              "  border: var(--sklearn-color-unfitted-level-1) 1pt solid;\n",
              "  color: var(--sklearn-color-unfitted-level-1);\n",
              "}\n",
              "\n",
              ".sk-estimator-doc-link.fitted,\n",
              "a:link.sk-estimator-doc-link.fitted,\n",
              "a:visited.sk-estimator-doc-link.fitted {\n",
              "  /* fitted */\n",
              "  border: var(--sklearn-color-fitted-level-1) 1pt solid;\n",
              "  color: var(--sklearn-color-fitted-level-1);\n",
              "}\n",
              "\n",
              "/* On hover */\n",
              "div.sk-estimator:hover .sk-estimator-doc-link:hover,\n",
              ".sk-estimator-doc-link:hover,\n",
              "div.sk-label-container:hover .sk-estimator-doc-link:hover,\n",
              ".sk-estimator-doc-link:hover {\n",
              "  /* unfitted */\n",
              "  background-color: var(--sklearn-color-unfitted-level-3);\n",
              "  color: var(--sklearn-color-background);\n",
              "  text-decoration: none;\n",
              "}\n",
              "\n",
              "div.sk-estimator.fitted:hover .sk-estimator-doc-link.fitted:hover,\n",
              ".sk-estimator-doc-link.fitted:hover,\n",
              "div.sk-label-container:hover .sk-estimator-doc-link.fitted:hover,\n",
              ".sk-estimator-doc-link.fitted:hover {\n",
              "  /* fitted */\n",
              "  background-color: var(--sklearn-color-fitted-level-3);\n",
              "  color: var(--sklearn-color-background);\n",
              "  text-decoration: none;\n",
              "}\n",
              "\n",
              "/* Span, style for the box shown on hovering the info icon */\n",
              ".sk-estimator-doc-link span {\n",
              "  display: none;\n",
              "  z-index: 9999;\n",
              "  position: relative;\n",
              "  font-weight: normal;\n",
              "  right: .2ex;\n",
              "  padding: .5ex;\n",
              "  margin: .5ex;\n",
              "  width: min-content;\n",
              "  min-width: 20ex;\n",
              "  max-width: 50ex;\n",
              "  color: var(--sklearn-color-text);\n",
              "  box-shadow: 2pt 2pt 4pt #999;\n",
              "  /* unfitted */\n",
              "  background: var(--sklearn-color-unfitted-level-0);\n",
              "  border: .5pt solid var(--sklearn-color-unfitted-level-3);\n",
              "}\n",
              "\n",
              ".sk-estimator-doc-link.fitted span {\n",
              "  /* fitted */\n",
              "  background: var(--sklearn-color-fitted-level-0);\n",
              "  border: var(--sklearn-color-fitted-level-3);\n",
              "}\n",
              "\n",
              ".sk-estimator-doc-link:hover span {\n",
              "  display: block;\n",
              "}\n",
              "\n",
              "/* \"?\"-specific style due to the `<a>` HTML tag */\n",
              "\n",
              "#sk-container-id-3 a.estimator_doc_link {\n",
              "  float: right;\n",
              "  font-size: 1rem;\n",
              "  line-height: 1em;\n",
              "  font-family: monospace;\n",
              "  background-color: var(--sklearn-color-background);\n",
              "  border-radius: 1rem;\n",
              "  height: 1rem;\n",
              "  width: 1rem;\n",
              "  text-decoration: none;\n",
              "  /* unfitted */\n",
              "  color: var(--sklearn-color-unfitted-level-1);\n",
              "  border: var(--sklearn-color-unfitted-level-1) 1pt solid;\n",
              "}\n",
              "\n",
              "#sk-container-id-3 a.estimator_doc_link.fitted {\n",
              "  /* fitted */\n",
              "  border: var(--sklearn-color-fitted-level-1) 1pt solid;\n",
              "  color: var(--sklearn-color-fitted-level-1);\n",
              "}\n",
              "\n",
              "/* On hover */\n",
              "#sk-container-id-3 a.estimator_doc_link:hover {\n",
              "  /* unfitted */\n",
              "  background-color: var(--sklearn-color-unfitted-level-3);\n",
              "  color: var(--sklearn-color-background);\n",
              "  text-decoration: none;\n",
              "}\n",
              "\n",
              "#sk-container-id-3 a.estimator_doc_link.fitted:hover {\n",
              "  /* fitted */\n",
              "  background-color: var(--sklearn-color-fitted-level-3);\n",
              "}\n",
              "</style><div id=\"sk-container-id-3\" class=\"sk-top-container\"><div class=\"sk-text-repr-fallback\"><pre>LogisticRegression()</pre><b>In a Jupyter environment, please rerun this cell to show the HTML representation or trust the notebook. <br />On GitHub, the HTML representation is unable to render, please try loading this page with nbviewer.org.</b></div><div class=\"sk-container\" hidden><div class=\"sk-item\"><div class=\"sk-estimator fitted sk-toggleable\"><input class=\"sk-toggleable__control sk-hidden--visually\" id=\"sk-estimator-id-3\" type=\"checkbox\" checked><label for=\"sk-estimator-id-3\" class=\"sk-toggleable__label fitted sk-toggleable__label-arrow\"><div><div>LogisticRegression</div></div><div><a class=\"sk-estimator-doc-link fitted\" rel=\"noreferrer\" target=\"_blank\" href=\"https://scikit-learn.org/1.6/modules/generated/sklearn.linear_model.LogisticRegression.html\">?<span>Documentation for LogisticRegression</span></a><span class=\"sk-estimator-doc-link fitted\">i<span>Fitted</span></span></div></label><div class=\"sk-toggleable__content fitted\"><pre>LogisticRegression()</pre></div> </div></div></div></div>"
            ],
            "text/plain": [
              "LogisticRegression()"
            ]
          },
          "execution_count": 69,
          "metadata": {},
          "output_type": "execute_result"
        }
      ],
      "source": [
        "#Rebuilt the model\n",
        "logreg_smote=LogisticRegression()\n",
        "logreg_smote.fit(X_train_smote,y_train_smote)"
      ]
    },
    {
      "cell_type": "code",
      "execution_count": null,
      "metadata": {
        "colab": {
          "base_uri": "https://localhost:8080/"
        },
        "id": "hZvC0aTgOg2J",
        "outputId": "a503e616-c33d-46f4-9590-16a8dcf0b1fc"
      },
      "outputs": [
        {
          "name": "stdout",
          "output_type": "stream",
          "text": [
            "[[99181 12749]\n",
            " [27453 28512]]\n",
            "[[24859  3185]\n",
            " [  877  1079]]\n",
            "0.5094612704368802\n",
            "0.5516359918200409\n"
          ]
        }
      ],
      "source": [
        "#Confusion matrix\n",
        "cm_train_smote=confusion_matrix(y_train_smote,logreg_smote.predict(X_train_smote))\n",
        "print(cm_train_smote)\n",
        "cm_test_smote=confusion_matrix(y_test,logreg_smote.predict(X_test))\n",
        "print(cm_test_smote)\n",
        "#Class-1 Accuracy on Train\n",
        "class_1_accuracy_smote=cm_train_smote[1,1]/(cm_train_smote[1,0]+cm_train_smote[1,1])\n",
        "print(class_1_accuracy_smote)\n",
        "#Class-1 Accuracy on Test\n",
        "class_1_accuracy_smote=cm_test_smote[1,1]/(cm_test_smote[1,0]+cm_test_smote[1,1])\n",
        "print(class_1_accuracy_smote)"
      ]
    },
    {
      "cell_type": "code",
      "execution_count": null,
      "metadata": {
        "colab": {
          "base_uri": "https://localhost:8080/"
        },
        "id": "xivY2-l6Oy5-",
        "outputId": "e55db45d-d68e-4e6a-bd03-aba02e840ae8"
      },
      "outputs": [
        {
          "name": "stdout",
          "output_type": "stream",
          "text": [
            "Original dataset shape Counter({0: 111930, 1: 8070})\n",
            "Resampled dataset shape Counter({0: 111930, 1: 55965})\n"
          ]
        }
      ],
      "source": [
        "import collections\n",
        "print('Original dataset shape {}'.format(collections.Counter(y_train)))\n",
        "print('Resampled dataset shape {}'.format(collections.Counter(y_train_smote)))"
      ]
    },
    {
      "cell_type": "code",
      "execution_count": 3,
      "metadata": {
        "id": "N9z_IVcvQuFm"
      },
      "outputs": [
        {
          "ename": "NameError",
          "evalue": "name 'logreg' is not defined",
          "output_type": "error",
          "traceback": [
            "\u001b[31m---------------------------------------------------------------------------\u001b[39m",
            "\u001b[31mNameError\u001b[39m                                 Traceback (most recent call last)",
            "\u001b[36mCell\u001b[39m\u001b[36m \u001b[39m\u001b[32mIn[3]\u001b[39m\u001b[32m, line 4\u001b[39m\n\u001b[32m      1\u001b[39m \u001b[38;5;28;01mimport\u001b[39;00m\u001b[38;5;250m \u001b[39m\u001b[34;01mjoblib\u001b[39;00m\n\u001b[32m      3\u001b[39m \u001b[38;5;66;03m# Save the model\u001b[39;00m\n\u001b[32m----> \u001b[39m\u001b[32m4\u001b[39m joblib.dump(\u001b[43mlogreg\u001b[49m, \u001b[33m\"\u001b[39m\u001b[33mcredit_model.pkl\u001b[39m\u001b[33m\"\u001b[39m)\n",
            "\u001b[31mNameError\u001b[39m: name 'logreg' is not defined"
          ]
        }
      ],
      "source": [
        "import joblib\n",
        "\n",
        "# Save the model\n",
        "joblib.dump(logreg, \"credit_model.pkl\")\n"
      ]
    },
    {
      "cell_type": "code",
      "execution_count": null,
      "metadata": {},
      "outputs": [],
      "source": []
    }
  ],
  "metadata": {
    "colab": {
      "provenance": [],
      "toc_visible": true
    },
    "kernelspec": {
      "display_name": "Python 3",
      "name": "python3"
    },
    "language_info": {
      "codemirror_mode": {
        "name": "ipython",
        "version": 3
      },
      "file_extension": ".py",
      "mimetype": "text/x-python",
      "name": "python",
      "nbconvert_exporter": "python",
      "pygments_lexer": "ipython3",
      "version": "3.13.4"
    }
  },
  "nbformat": 4,
  "nbformat_minor": 0
}
